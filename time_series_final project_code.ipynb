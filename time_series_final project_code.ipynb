{
 "cells": [
  {
   "cell_type": "code",
   "execution_count": 1,
   "metadata": {},
   "outputs": [
    {
     "name": "stderr",
     "output_type": "stream",
     "text": [
      "Loading required package: quantmod\n",
      "Loading required package: xts\n",
      "Loading required package: zoo\n",
      "\n",
      "Attaching package: 'zoo'\n",
      "\n",
      "The following objects are masked from 'package:base':\n",
      "\n",
      "    as.Date, as.Date.numeric\n",
      "\n",
      "Registered S3 method overwritten by 'xts':\n",
      "  method     from\n",
      "  as.zoo.xts zoo \n",
      "Loading required package: TTR\n",
      "Registered S3 method overwritten by 'quantmod':\n",
      "  method            from\n",
      "  as.zoo.data.frame zoo \n",
      "Version 0.4-0 included new data defaults. See ?getSymbols.\n"
     ]
    }
   ],
   "source": [
    "require(quantmod)"
   ]
  },
  {
   "cell_type": "code",
   "execution_count": 2,
   "metadata": {},
   "outputs": [],
   "source": [
    "library(\"quantmod\")"
   ]
  },
  {
   "cell_type": "code",
   "execution_count": 3,
   "metadata": {},
   "outputs": [
    {
     "name": "stderr",
     "output_type": "stream",
     "text": [
      "Registered S3 methods overwritten by 'forecast':\n",
      "  method             from    \n",
      "  fitted.fracdiff    fracdiff\n",
      "  residuals.fracdiff fracdiff\n",
      "Loading required package: timeDate\n",
      "Loading required package: timeSeries\n",
      "\n",
      "Attaching package: 'timeSeries'\n",
      "\n",
      "The following object is masked from 'package:zoo':\n",
      "\n",
      "    time<-\n",
      "\n",
      "Loading required package: fBasics\n",
      "\n",
      "Attaching package: 'fBasics'\n",
      "\n",
      "The following object is masked from 'package:TTR':\n",
      "\n",
      "    volatility\n",
      "\n"
     ]
    }
   ],
   "source": [
    "library(\"forecast\")\n",
    "library(\"fUnitRoots\")"
   ]
  },
  {
   "cell_type": "code",
   "execution_count": 4,
   "metadata": {},
   "outputs": [],
   "source": [
    "library(fBasics)"
   ]
  },
  {
   "cell_type": "markdown",
   "metadata": {},
   "source": [
    "###### DATA LOAD"
   ]
  },
  {
   "cell_type": "code",
   "execution_count": 5,
   "metadata": {},
   "outputs": [
    {
     "name": "stderr",
     "output_type": "stream",
     "text": [
      "'getSymbols' currently uses auto.assign=TRUE by default, but will\n",
      "use auto.assign=FALSE in 0.5-0. You will still be able to use\n",
      "'loadSymbols' to automatically load data. getOption(\"getSymbols.env\")\n",
      "and getOption(\"getSymbols.auto.assign\") will still be checked for\n",
      "alternate defaults.\n",
      "\n",
      "This message is shown once per session and may be disabled by setting \n",
      "options(\"getSymbols.warning4.0\"=FALSE). See ?getSymbols for details.\n",
      "\n"
     ]
    }
   ],
   "source": [
    "data = getSymbols(Symbols=\"TSLA\", src = \"yahoo\", from= \"2010-06-29\", to = \"2019-12-01\", auto.assign = FALSE)"
   ]
  },
  {
   "cell_type": "code",
   "execution_count": 6,
   "metadata": {},
   "outputs": [
    {
     "data": {
      "text/plain": [
       "           TSLA.Open TSLA.High TSLA.Low TSLA.Close TSLA.Volume TSLA.Adjusted\n",
       "2010-06-29     19.00     25.00    17.54      23.89    18766300         23.89\n",
       "2010-06-30     25.79     30.42    23.30      23.83    17187100         23.83\n",
       "2010-07-01     25.00     25.92    20.27      21.96     8218800         21.96\n",
       "2010-07-02     23.00     23.10    18.71      19.20     5139800         19.20\n",
       "2010-07-06     20.00     20.00    15.83      16.11     6866900         16.11\n",
       "2010-07-07     16.40     16.63    14.98      15.80     6921700         15.80"
      ]
     },
     "metadata": {},
     "output_type": "display_data"
    }
   ],
   "source": [
    "head(data)"
   ]
  },
  {
   "cell_type": "code",
   "execution_count": 7,
   "metadata": {},
   "outputs": [
    {
     "data": {
      "text/plain": [
       "           TSLA.Open TSLA.High TSLA.Low TSLA.Close TSLA.Volume TSLA.Adjusted\n",
       "2019-11-21    354.51    360.84   354.00     354.83     6110000        354.83\n",
       "2019-11-22    340.16    341.00   330.00     333.04    16870600        333.04\n",
       "2019-11-25    344.32    344.57   334.46     336.34    12339500        336.34\n",
       "2019-11-26    335.27    335.50   327.10     328.92     7947400        328.92\n",
       "2019-11-27    331.12    333.93   328.57     331.29     5555600        331.29\n",
       "2019-11-29    331.11    331.26   327.50     329.94     2465600        329.94"
      ]
     },
     "metadata": {},
     "output_type": "display_data"
    }
   ],
   "source": [
    "tail(data)"
   ]
  },
  {
   "cell_type": "code",
   "execution_count": 8,
   "metadata": {},
   "outputs": [],
   "source": [
    "data1 = data$TSLA.Adjusted"
   ]
  },
  {
   "cell_type": "code",
   "execution_count": 9,
   "metadata": {},
   "outputs": [],
   "source": [
    "price = as.numeric(data1)"
   ]
  },
  {
   "cell_type": "code",
   "execution_count": 10,
   "metadata": {},
   "outputs": [
    {
     "data": {
      "text/html": [
       "<ol class=list-inline>\n",
       "\t<li>23.889999</li>\n",
       "\t<li>23.83</li>\n",
       "\t<li>21.959999</li>\n",
       "\t<li>19.200001</li>\n",
       "\t<li>16.110001</li>\n",
       "\t<li>15.8</li>\n",
       "</ol>\n"
      ],
      "text/latex": [
       "\\begin{enumerate*}\n",
       "\\item 23.889999\n",
       "\\item 23.83\n",
       "\\item 21.959999\n",
       "\\item 19.200001\n",
       "\\item 16.110001\n",
       "\\item 15.8\n",
       "\\end{enumerate*}\n"
      ],
      "text/markdown": [
       "1. 23.889999\n",
       "2. 23.83\n",
       "3. 21.959999\n",
       "4. 19.200001\n",
       "5. 16.110001\n",
       "6. 15.8\n",
       "\n",
       "\n"
      ],
      "text/plain": [
       "[1] 23.89 23.83 21.96 19.20 16.11 15.80"
      ]
     },
     "metadata": {},
     "output_type": "display_data"
    }
   ],
   "source": [
    "head(price)"
   ]
  },
  {
   "cell_type": "code",
   "execution_count": 11,
   "metadata": {},
   "outputs": [
    {
     "data": {
      "text/html": [
       "<ol class=list-inline>\n",
       "\t<li>354.829987</li>\n",
       "\t<li>333.040009</li>\n",
       "\t<li>336.339996</li>\n",
       "\t<li>328.920013</li>\n",
       "\t<li>331.290009</li>\n",
       "\t<li>329.940002</li>\n",
       "</ol>\n"
      ],
      "text/latex": [
       "\\begin{enumerate*}\n",
       "\\item 354.829987\n",
       "\\item 333.040009\n",
       "\\item 336.339996\n",
       "\\item 328.920013\n",
       "\\item 331.290009\n",
       "\\item 329.940002\n",
       "\\end{enumerate*}\n"
      ],
      "text/markdown": [
       "1. 354.829987\n",
       "2. 333.040009\n",
       "3. 336.339996\n",
       "4. 328.920013\n",
       "5. 331.290009\n",
       "6. 329.940002\n",
       "\n",
       "\n"
      ],
      "text/plain": [
       "[1] 354.83 333.04 336.34 328.92 331.29 329.94"
      ]
     },
     "metadata": {},
     "output_type": "display_data"
    }
   ],
   "source": [
    "tail(price)"
   ]
  },
  {
   "cell_type": "code",
   "execution_count": 12,
   "metadata": {},
   "outputs": [
    {
     "data": {
      "text/html": [
       "<table>\n",
       "<thead><tr><th></th><th scope=col>price</th></tr></thead>\n",
       "<tbody>\n",
       "\t<tr><th scope=row>nobs</th><td>  2373.000000</td></tr>\n",
       "\t<tr><th scope=row>NAs</th><td>     0.000000</td></tr>\n",
       "\t<tr><th scope=row>Minimum</th><td>    15.800000</td></tr>\n",
       "\t<tr><th scope=row>Maximum</th><td>   385.000000</td></tr>\n",
       "\t<tr><th scope=row>1. Quartile</th><td>    34.180000</td></tr>\n",
       "\t<tr><th scope=row>3. Quartile</th><td>   262.070007</td></tr>\n",
       "\t<tr><th scope=row>Mean</th><td>   181.431854</td></tr>\n",
       "\t<tr><th scope=row>Median</th><td>   210.940002</td></tr>\n",
       "\t<tr><th scope=row>Sum</th><td>430537.790204</td></tr>\n",
       "\t<tr><th scope=row>SE Mean</th><td>     2.329279</td></tr>\n",
       "\t<tr><th scope=row>LCL Mean</th><td>   176.864220</td></tr>\n",
       "\t<tr><th scope=row>UCL Mean</th><td>   185.999489</td></tr>\n",
       "\t<tr><th scope=row>Variance</th><td> 12874.811223</td></tr>\n",
       "\t<tr><th scope=row>Stdev</th><td>   113.467225</td></tr>\n",
       "\t<tr><th scope=row>Skewness</th><td>    -0.220653</td></tr>\n",
       "\t<tr><th scope=row>Kurtosis</th><td>    -1.321913</td></tr>\n",
       "</tbody>\n",
       "</table>\n"
      ],
      "text/latex": [
       "\\begin{tabular}{r|l}\n",
       "  & price\\\\\n",
       "\\hline\n",
       "\tnobs &   2373.000000\\\\\n",
       "\tNAs &      0.000000\\\\\n",
       "\tMinimum &     15.800000\\\\\n",
       "\tMaximum &    385.000000\\\\\n",
       "\t1. Quartile &     34.180000\\\\\n",
       "\t3. Quartile &    262.070007\\\\\n",
       "\tMean &    181.431854\\\\\n",
       "\tMedian &    210.940002\\\\\n",
       "\tSum & 430537.790204\\\\\n",
       "\tSE Mean &      2.329279\\\\\n",
       "\tLCL Mean &    176.864220\\\\\n",
       "\tUCL Mean &    185.999489\\\\\n",
       "\tVariance &  12874.811223\\\\\n",
       "\tStdev &    113.467225\\\\\n",
       "\tSkewness &     -0.220653\\\\\n",
       "\tKurtosis &     -1.321913\\\\\n",
       "\\end{tabular}\n"
      ],
      "text/markdown": [
       "\n",
       "| <!--/--> | price |\n",
       "|---|---|\n",
       "| nobs |   2373.000000 |\n",
       "| NAs |      0.000000 |\n",
       "| Minimum |     15.800000 |\n",
       "| Maximum |    385.000000 |\n",
       "| 1. Quartile |     34.180000 |\n",
       "| 3. Quartile |    262.070007 |\n",
       "| Mean |    181.431854 |\n",
       "| Median |    210.940002 |\n",
       "| Sum | 430537.790204 |\n",
       "| SE Mean |      2.329279 |\n",
       "| LCL Mean |    176.864220 |\n",
       "| UCL Mean |    185.999489 |\n",
       "| Variance |  12874.811223 |\n",
       "| Stdev |    113.467225 |\n",
       "| Skewness |     -0.220653 |\n",
       "| Kurtosis |     -1.321913 |\n",
       "\n"
      ],
      "text/plain": [
       "            price        \n",
       "nobs          2373.000000\n",
       "NAs              0.000000\n",
       "Minimum         15.800000\n",
       "Maximum        385.000000\n",
       "1. Quartile     34.180000\n",
       "3. Quartile    262.070007\n",
       "Mean           181.431854\n",
       "Median         210.940002\n",
       "Sum         430537.790204\n",
       "SE Mean          2.329279\n",
       "LCL Mean       176.864220\n",
       "UCL Mean       185.999489\n",
       "Variance     12874.811223\n",
       "Stdev          113.467225\n",
       "Skewness        -0.220653\n",
       "Kurtosis        -1.321913"
      ]
     },
     "metadata": {},
     "output_type": "display_data"
    }
   ],
   "source": [
    "basicStats(price)"
   ]
  },
  {
   "cell_type": "code",
   "execution_count": 13,
   "metadata": {},
   "outputs": [
    {
     "data": {
      "image/png": "[encoded data removed]",
      "text/plain": [
       "plot without title"
      ]
     },
     "metadata": {},
     "output_type": "display_data"
    }
   ],
   "source": [
    "ts.plot(price)"
   ]
  },
  {
   "cell_type": "code",
   "execution_count": 14,
   "metadata": {},
   "outputs": [],
   "source": [
    "log_price = log(price)"
   ]
  },
  {
   "cell_type": "code",
   "execution_count": 15,
   "metadata": {},
   "outputs": [
    {
     "data": {
      "image/png": "[encoded data removed]",
      "text/plain": [
       "plot without title"
      ]
     },
     "metadata": {},
     "output_type": "display_data"
    }
   ],
   "source": [
    "ts.plot(log_price)"
   ]
  },
  {
   "cell_type": "code",
   "execution_count": 16,
   "metadata": {},
   "outputs": [
    {
     "data": {
      "image/png": "[encoded data removed]",
      "text/plain": [
       "Plot with title \"Series  log_price\""
      ]
     },
     "metadata": {},
     "output_type": "display_data"
    }
   ],
   "source": [
    "acf(log_price)"
   ]
  },
  {
   "cell_type": "code",
   "execution_count": 17,
   "metadata": {},
   "outputs": [],
   "source": [
    "rtn = diff(log_price)*100"
   ]
  },
  {
   "cell_type": "code",
   "execution_count": 18,
   "metadata": {},
   "outputs": [
    {
     "data": {
      "text/plain": [
       "\n",
       "Title:\n",
       " Augmented Dickey-Fuller Test\n",
       "\n",
       "Test Results:\n",
       "  PARAMETER:\n",
       "    Lag Order: 12\n",
       "  STATISTIC:\n",
       "    Dickey-Fuller: -1.5429\n",
       "  P VALUE:\n",
       "    0.484 \n",
       "\n",
       "Description:\n",
       " Sun Dec 15 20:55:17 2019 by user: Hyojun\n"
      ]
     },
     "metadata": {},
     "output_type": "display_data"
    }
   ],
   "source": [
    "adfTest(log_price, type=\"c\", lags=12)"
   ]
  },
  {
   "cell_type": "code",
   "execution_count": 19,
   "metadata": {},
   "outputs": [
    {
     "data": {
      "text/html": [
       "FALSE"
      ],
      "text/latex": [
       "FALSE"
      ],
      "text/markdown": [
       "FALSE"
      ],
      "text/plain": [
       "[1] FALSE"
      ]
     },
     "metadata": {},
     "output_type": "display_data"
    }
   ],
   "source": [
    "is.null(rtn)"
   ]
  },
  {
   "cell_type": "code",
   "execution_count": 20,
   "metadata": {},
   "outputs": [
    {
     "data": {
      "image/png": "[encoded data removed]",
      "text/plain": [
       "plot without title"
      ]
     },
     "metadata": {},
     "output_type": "display_data"
    }
   ],
   "source": [
    "ts.plot(rtn)"
   ]
  },
  {
   "cell_type": "code",
   "execution_count": 21,
   "metadata": {},
   "outputs": [
    {
     "data": {
      "image/png": "[encoded data removed]",
      "text/plain": [
       "Plot with title \"Series  rtn\""
      ]
     },
     "metadata": {},
     "output_type": "display_data"
    }
   ],
   "source": [
    "par(mfcol=c(2,1))\n",
    "acf(rtn)\n",
    "pacf(rtn)"
   ]
  },
  {
   "cell_type": "code",
   "execution_count": 22,
   "metadata": {},
   "outputs": [
    {
     "data": {
      "text/plain": [
       "\n",
       "\tOne Sample t-test\n",
       "\n",
       "data:  price\n",
       "t = 77.892, df = 2372, p-value < 2.2e-16\n",
       "alternative hypothesis: true mean is not equal to 0\n",
       "95 percent confidence interval:\n",
       " 176.8642 185.9995\n",
       "sample estimates:\n",
       "mean of x \n",
       " 181.4319 \n"
      ]
     },
     "metadata": {},
     "output_type": "display_data"
    }
   ],
   "source": [
    "t.test(price)"
   ]
  },
  {
   "cell_type": "code",
   "execution_count": 23,
   "metadata": {},
   "outputs": [
    {
     "data": {
      "text/plain": [
       "\n",
       "\tBox-Ljung test\n",
       "\n",
       "data:  rtn\n",
       "X-squared = 7.0255, df = 12, p-value = 0.8559\n"
      ]
     },
     "metadata": {},
     "output_type": "display_data"
    }
   ],
   "source": [
    "Box.test(rtn, type='Ljung',lag=12)"
   ]
  },
  {
   "cell_type": "code",
   "execution_count": 24,
   "metadata": {},
   "outputs": [
    {
     "data": {
      "text/plain": [
       "\n",
       "\tBox-Ljung test\n",
       "\n",
       "data:  abs(rtn)\n",
       "X-squared = 131.63, df = 12, p-value < 2.2e-16\n"
      ]
     },
     "metadata": {},
     "output_type": "display_data"
    }
   ],
   "source": [
    "Box.test(abs(rtn), type='Ljung',lag=12)"
   ]
  },
  {
   "cell_type": "code",
   "execution_count": 25,
   "metadata": {},
   "outputs": [],
   "source": [
    "y = rtn-mean(rtn)"
   ]
  },
  {
   "cell_type": "code",
   "execution_count": 26,
   "metadata": {},
   "outputs": [
    {
     "data": {
      "image/png": "[encoded data removed]",
      "text/plain": [
       "plot without title"
      ]
     },
     "metadata": {},
     "output_type": "display_data"
    }
   ],
   "source": [
    "ts.plot(y)"
   ]
  },
  {
   "cell_type": "code",
   "execution_count": 27,
   "metadata": {},
   "outputs": [],
   "source": [
    "y2 = y*y"
   ]
  },
  {
   "cell_type": "code",
   "execution_count": 28,
   "metadata": {},
   "outputs": [
    {
     "data": {
      "text/plain": [
       "\n",
       "\tBox-Ljung test\n",
       "\n",
       "data:  y2\n",
       "X-squared = 105.73, df = 12, p-value < 2.2e-16\n"
      ]
     },
     "metadata": {},
     "output_type": "display_data"
    }
   ],
   "source": [
    "Box.test(y2, type='Ljung',lag=12)"
   ]
  },
  {
   "cell_type": "code",
   "execution_count": 29,
   "metadata": {},
   "outputs": [],
   "source": [
    "source(\"archTest.R\")"
   ]
  },
  {
   "cell_type": "code",
   "execution_count": 30,
   "metadata": {},
   "outputs": [
    {
     "data": {
      "text/plain": [
       "\n",
       "Call:\n",
       "lm(formula = atsq ~ x)\n",
       "\n",
       "Residuals:\n",
       "   Min     1Q Median     3Q    Max \n",
       "-59.75  -8.35  -6.39  -0.93 458.45 \n",
       "\n",
       "Coefficients:\n",
       "             Estimate Std. Error t value Pr(>|t|)    \n",
       "(Intercept)  7.190518   0.810760   8.869  < 2e-16 ***\n",
       "x1           0.141829   0.020636   6.873 8.03e-12 ***\n",
       "x2           0.041404   0.020838   1.987   0.0470 *  \n",
       "x3           0.027956   0.020809   1.343   0.1793    \n",
       "x4           0.012624   0.020804   0.607   0.5440    \n",
       "x5          -0.004095   0.020798  -0.197   0.8439    \n",
       "x6          -0.021942   0.020792  -1.055   0.2914    \n",
       "x7           0.010001   0.020768   0.482   0.6302    \n",
       "x8           0.037432   0.020745   1.804   0.0713 .  \n",
       "x9          -0.031020   0.020337  -1.525   0.1273    \n",
       "x10          0.041858   0.020260   2.066   0.0389 *  \n",
       "x11          0.010376   0.020253   0.512   0.6085    \n",
       "x12          0.023676   0.019999   1.184   0.2366    \n",
       "---\n",
       "Signif. codes:  0 '***' 0.001 '**' 0.01 '*' 0.05 '.' 0.1 ' ' 1\n",
       "\n",
       "Residual standard error: 27.91 on 2347 degrees of freedom\n",
       "Multiple R-squared:  0.03115,\tAdjusted R-squared:  0.02619 \n",
       "F-statistic: 6.288 on 12 and 2347 DF,  p-value: 4.724e-11\n"
      ]
     },
     "metadata": {},
     "output_type": "display_data"
    }
   ],
   "source": [
    "archTest(y,12)"
   ]
  },
  {
   "cell_type": "code",
   "execution_count": 31,
   "metadata": {},
   "outputs": [
    {
     "data": {
      "image/png": "[encoded data removed]",
      "text/plain": [
       "Plot with title \"Series  y2\""
      ]
     },
     "metadata": {},
     "output_type": "display_data"
    }
   ],
   "source": [
    "par(mfcol=c(2,1))\n",
    "acf(y2)\n",
    "pacf(y2)"
   ]
  },
  {
   "cell_type": "code",
   "execution_count": 32,
   "metadata": {},
   "outputs": [],
   "source": [
    "library(fGarch)"
   ]
  },
  {
   "cell_type": "code",
   "execution_count": 33,
   "metadata": {},
   "outputs": [
    {
     "name": "stderr",
     "output_type": "stream",
     "text": [
      "Warning message in sqrt(diag(fit$cvar)):\n",
      "\"NaN이 생성되었습니다\"Warning message in sqrt(diag(fit$cvar)):\n",
      "\"NaN이 생성되었습니다\""
     ]
    }
   ],
   "source": [
    "m1 = garchFit(~garch(2,0),data=rtn,trace=F)\n",
    "m2 = garchFit(~garch(2,1),data=rtn,trace=F)\n",
    "m3 = garchFit(~garch(2,2),data=rtn,trace=F)\n",
    "m4 = garchFit(~garch(2,0),data=rtn,trace=F, cond.dist = \"std\")\n",
    "m5 = garchFit(~garch(2,1),data=rtn,trace=F, cond.dist = \"std\")\n",
    "m6 = garchFit(~garch(2,2),data=rtn,trace=F, cond.dist = \"std\")\n",
    "m7 = garchFit(~garch(2,0),data=rtn,trace=F, cond.dist = \"sstd\")\n",
    "m8 = garchFit(~garch(2,1),data=rtn,trace=F, cond.dist = \"sstd\")\n",
    "m9 = garchFit(~garch(2,2),data=rtn,trace=F, cond.dist = \"sstd\")"
   ]
  },
  {
   "cell_type": "code",
   "execution_count": 34,
   "metadata": {},
   "outputs": [
    {
     "name": "stdout",
     "output_type": "stream",
     "text": [
      "\n",
      "Title:\n",
      " GARCH Modelling \n",
      "\n",
      "Call:\n",
      " garchFit(formula = ~garch(2, 0), data = rtn, trace = F) \n",
      "\n",
      "Mean and Variance Equation:\n",
      " data ~ garch(2, 0)\n",
      "<environment: 0x000000005538d6a0>\n",
      " [data = rtn]\n",
      "\n",
      "Conditional Distribution:\n",
      " norm \n",
      "\n",
      "Coefficient(s):\n",
      "     mu    omega   alpha1   alpha2  \n",
      "0.14013  8.19406  0.11165  0.10521  \n",
      "\n",
      "Std. Errors:\n",
      " based on Hessian \n",
      "\n",
      "Error Analysis:\n",
      "        Estimate  Std. Error  t value Pr(>|t|)    \n",
      "mu       0.14013     0.06312    2.220   0.0264 *  \n",
      "omega    8.19406     0.33776   24.260  < 2e-16 ***\n",
      "alpha1   0.11165     0.02233    4.999 5.76e-07 ***\n",
      "alpha2   0.10521     0.02674    3.935 8.31e-05 ***\n",
      "---\n",
      "Signif. codes:  0 '***' 0.001 '**' 0.01 '*' 0.05 '.' 0.1 ' ' 1\n",
      "\n",
      "Log Likelihood:\n",
      " -6092.082    normalized:  -2.568331 \n",
      "\n",
      "Description:\n",
      " Sun Dec 15 20:55:19 2019 by user: Hyojun \n",
      "\n",
      "\n",
      "Standardised Residuals Tests:\n",
      "                                Statistic p-Value  \n",
      " Jarque-Bera Test   R    Chi^2  3191.281  0        \n",
      " Shapiro-Wilk Test  R    W      0.93773   0        \n",
      " Ljung-Box Test     R    Q(10)  5.389018  0.863724 \n",
      " Ljung-Box Test     R    Q(15)  6.381413  0.9726044\n",
      " Ljung-Box Test     R    Q(20)  9.134471  0.9812968\n",
      " Ljung-Box Test     R^2  Q(10)  10.49097  0.3985244\n",
      " Ljung-Box Test     R^2  Q(15)  14.32775  0.5008314\n",
      " Ljung-Box Test     R^2  Q(20)  17.551    0.6169597\n",
      " LM Arch Test       R    TR^2   12.41862  0.4126718\n",
      "\n",
      "Information Criterion Statistics:\n",
      "     AIC      BIC      SIC     HQIC \n",
      "5.140035 5.149768 5.140030 5.143578 \n",
      "\n"
     ]
    }
   ],
   "source": [
    "summary(m1)"
   ]
  },
  {
   "cell_type": "code",
   "execution_count": 35,
   "metadata": {},
   "outputs": [
    {
     "name": "stdout",
     "output_type": "stream",
     "text": [
      "\n",
      "Title:\n",
      " GARCH Modelling \n",
      "\n",
      "Call:\n",
      " garchFit(formula = ~garch(2, 1), data = rtn, trace = F) \n",
      "\n",
      "Mean and Variance Equation:\n",
      " data ~ garch(2, 1)\n",
      "<environment: 0x0000000058bf0428>\n",
      " [data = rtn]\n",
      "\n",
      "Conditional Distribution:\n",
      " norm \n",
      "\n",
      "Coefficient(s):\n",
      "      mu     omega    alpha1    alpha2     beta1  \n",
      "0.116203  4.651646  0.105824  0.054882  0.393548  \n",
      "\n",
      "Std. Errors:\n",
      " based on Hessian \n",
      "\n",
      "Error Analysis:\n",
      "        Estimate  Std. Error  t value Pr(>|t|)    \n",
      "mu       0.11620     0.06307    1.843 0.065397 .  \n",
      "omega    4.65165     0.96969    4.797 1.61e-06 ***\n",
      "alpha1   0.10582     0.02154    4.914 8.93e-07 ***\n",
      "alpha2   0.05488     0.03452    1.590 0.111879    \n",
      "beta1    0.39355     0.11698    3.364 0.000767 ***\n",
      "---\n",
      "Signif. codes:  0 '***' 0.001 '**' 0.01 '*' 0.05 '.' 0.1 ' ' 1\n",
      "\n",
      "Log Likelihood:\n",
      " -6085.856    normalized:  -2.565707 \n",
      "\n",
      "Description:\n",
      " Sun Dec 15 20:55:19 2019 by user: Hyojun \n",
      "\n",
      "\n",
      "Standardised Residuals Tests:\n",
      "                                Statistic p-Value  \n",
      " Jarque-Bera Test   R    Chi^2  3211.427  0        \n",
      " Shapiro-Wilk Test  R    W      0.9378967 0        \n",
      " Ljung-Box Test     R    Q(10)  5.305058  0.8698907\n",
      " Ljung-Box Test     R    Q(15)  6.33394   0.973576 \n",
      " Ljung-Box Test     R    Q(20)  9.620684  0.9745401\n",
      " Ljung-Box Test     R^2  Q(10)  7.413074  0.685957 \n",
      " Ljung-Box Test     R^2  Q(15)  10.99359  0.7530486\n",
      " Ljung-Box Test     R^2  Q(20)  14.39725  0.809797 \n",
      " LM Arch Test       R    TR^2   9.356484  0.672218 \n",
      "\n",
      "Information Criterion Statistics:\n",
      "     AIC      BIC      SIC     HQIC \n",
      "5.135629 5.147795 5.135620 5.140058 \n",
      "\n"
     ]
    }
   ],
   "source": [
    "summary(m2)"
   ]
  },
  {
   "cell_type": "code",
   "execution_count": 36,
   "metadata": {},
   "outputs": [
    {
     "name": "stdout",
     "output_type": "stream",
     "text": [
      "\n",
      "Title:\n",
      " GARCH Modelling \n",
      "\n",
      "Call:\n",
      " garchFit(formula = ~garch(2, 2), data = rtn, trace = F) \n",
      "\n",
      "Mean and Variance Equation:\n",
      " data ~ garch(2, 2)\n",
      "<environment: 0x000000004bffe048>\n",
      " [data = rtn]\n",
      "\n",
      "Conditional Distribution:\n",
      " norm \n",
      "\n",
      "Coefficient(s):\n",
      "        mu       omega      alpha1      alpha2       beta1       beta2  \n",
      "0.08514414  0.07755581  0.02674564  0.00000001  0.36122365  0.60442248  \n",
      "\n",
      "Std. Errors:\n",
      " based on Hessian \n",
      "\n",
      "Error Analysis:\n",
      "        Estimate  Std. Error  t value Pr(>|t|)  \n",
      "mu     8.514e-02   6.185e-02    1.377   0.1686  \n",
      "omega  7.756e-02   3.787e-02    2.048   0.0406 *\n",
      "alpha1 2.675e-02   1.417e-02    1.888   0.0591 .\n",
      "alpha2 1.000e-08   2.639e-02    0.000   1.0000  \n",
      "beta1  3.612e-01   6.261e-01    0.577   0.5640  \n",
      "beta2  6.044e-01   6.111e-01    0.989   0.3226  \n",
      "---\n",
      "Signif. codes:  0 '***' 0.001 '**' 0.01 '*' 0.05 '.' 0.1 ' ' 1\n",
      "\n",
      "Log Likelihood:\n",
      " -6071.889    normalized:  -2.559818 \n",
      "\n",
      "Description:\n",
      " Sun Dec 15 20:55:19 2019 by user: Hyojun \n",
      "\n",
      "\n",
      "Standardised Residuals Tests:\n",
      "                                Statistic p-Value   \n",
      " Jarque-Bera Test   R    Chi^2  2789.202  0         \n",
      " Shapiro-Wilk Test  R    W      0.941332  0         \n",
      " Ljung-Box Test     R    Q(10)  4.682349  0.911363  \n",
      " Ljung-Box Test     R    Q(15)  5.209242  0.9902017 \n",
      " Ljung-Box Test     R    Q(20)  8.352408  0.9892675 \n",
      " Ljung-Box Test     R^2  Q(10)  21.274    0.01926191\n",
      " Ljung-Box Test     R^2  Q(15)  24.27771  0.06052505\n",
      " Ljung-Box Test     R^2  Q(20)  27.18836  0.1300473 \n",
      " LM Arch Test       R    TR^2   14.76334  0.2546344 \n",
      "\n",
      "Information Criterion Statistics:\n",
      "     AIC      BIC      SIC     HQIC \n",
      "5.124696 5.139295 5.124683 5.130010 \n",
      "\n"
     ]
    }
   ],
   "source": [
    "summary(m3)"
   ]
  },
  {
   "cell_type": "code",
   "execution_count": 37,
   "metadata": {},
   "outputs": [
    {
     "name": "stdout",
     "output_type": "stream",
     "text": [
      "\n",
      "Title:\n",
      " GARCH Modelling \n",
      "\n",
      "Call:\n",
      " garchFit(formula = ~garch(2, 0), data = rtn, cond.dist = \"std\", \n",
      "    trace = F) \n",
      "\n",
      "Mean and Variance Equation:\n",
      " data ~ garch(2, 0)\n",
      "<environment: 0x000000004cde6ea0>\n",
      " [data = rtn]\n",
      "\n",
      "Conditional Distribution:\n",
      " std \n",
      "\n",
      "Coefficient(s):\n",
      "     mu    omega   alpha1   alpha2    shape  \n",
      "0.14170  8.40772  0.13381  0.11742  3.59518  \n",
      "\n",
      "Std. Errors:\n",
      " based on Hessian \n",
      "\n",
      "Error Analysis:\n",
      "        Estimate  Std. Error  t value Pr(>|t|)    \n",
      "mu       0.14170     0.05185    2.733 0.006281 ** \n",
      "omega    8.40772     0.72599   11.581  < 2e-16 ***\n",
      "alpha1   0.13381     0.03731    3.587 0.000335 ***\n",
      "alpha2   0.11742     0.03659    3.209 0.001331 ** \n",
      "shape    3.59518     0.28338   12.687  < 2e-16 ***\n",
      "---\n",
      "Signif. codes:  0 '***' 0.001 '**' 0.01 '*' 0.05 '.' 0.1 ' ' 1\n",
      "\n",
      "Log Likelihood:\n",
      " -5878.453    normalized:  -2.478269 \n",
      "\n",
      "Description:\n",
      " Sun Dec 15 20:55:19 2019 by user: Hyojun \n",
      "\n",
      "\n",
      "Standardised Residuals Tests:\n",
      "                                Statistic p-Value  \n",
      " Jarque-Bera Test   R    Chi^2  3263.67   0        \n",
      " Shapiro-Wilk Test  R    W      0.9373722 0        \n",
      " Ljung-Box Test     R    Q(10)  5.336293  0.8676115\n",
      " Ljung-Box Test     R    Q(15)  6.285624  0.9745402\n",
      " Ljung-Box Test     R    Q(20)  9.06565   0.9821343\n",
      " Ljung-Box Test     R^2  Q(10)  10.2138   0.4219406\n",
      " Ljung-Box Test     R^2  Q(15)  13.89284  0.5336716\n",
      " Ljung-Box Test     R^2  Q(20)  17.11695  0.6453669\n",
      " LM Arch Test       R    TR^2   12.15999  0.4329179\n",
      "\n",
      "Information Criterion Statistics:\n",
      "     AIC      BIC      SIC     HQIC \n",
      "4.960753 4.972919 4.960744 4.965182 \n",
      "\n"
     ]
    }
   ],
   "source": [
    "summary(m4)"
   ]
  },
  {
   "cell_type": "code",
   "execution_count": 38,
   "metadata": {},
   "outputs": [
    {
     "name": "stdout",
     "output_type": "stream",
     "text": [
      "\n",
      "Title:\n",
      " GARCH Modelling \n",
      "\n",
      "Call:\n",
      " garchFit(formula = ~garch(2, 1), data = rtn, cond.dist = \"std\", \n",
      "    trace = F) \n",
      "\n",
      "Mean and Variance Equation:\n",
      " data ~ garch(2, 1)\n",
      "<environment: 0x000000004da94b58>\n",
      " [data = rtn]\n",
      "\n",
      "Conditional Distribution:\n",
      " std \n",
      "\n",
      "Coefficient(s):\n",
      "        mu       omega      alpha1      alpha2       beta1       shape  \n",
      "0.11587659  0.18762719  0.03418391  0.00000001  0.95018970  3.60959970  \n",
      "\n",
      "Std. Errors:\n",
      " based on Hessian \n",
      "\n",
      "Error Analysis:\n",
      "        Estimate  Std. Error  t value Pr(>|t|)    \n",
      "mu     1.159e-01   5.072e-02    2.284   0.0223 *  \n",
      "omega  1.876e-01   9.532e-02    1.968   0.0490 *  \n",
      "alpha1 3.418e-02   1.737e-02    1.968   0.0491 *  \n",
      "alpha2 1.000e-08   1.998e-02    0.000   1.0000    \n",
      "beta1  9.502e-01   1.720e-02   55.235   <2e-16 ***\n",
      "shape  3.610e+00   2.882e-01   12.526   <2e-16 ***\n",
      "---\n",
      "Signif. codes:  0 '***' 0.001 '**' 0.01 '*' 0.05 '.' 0.1 ' ' 1\n",
      "\n",
      "Log Likelihood:\n",
      " -5862.527    normalized:  -2.471555 \n",
      "\n",
      "Description:\n",
      " Sun Dec 15 20:55:20 2019 by user: Hyojun \n",
      "\n",
      "\n",
      "Standardised Residuals Tests:\n",
      "                                Statistic p-Value  \n",
      " Jarque-Bera Test   R    Chi^2  3547.225  0        \n",
      " Shapiro-Wilk Test  R    W      0.9353718 0        \n",
      " Ljung-Box Test     R    Q(10)  4.557431  0.9187179\n",
      " Ljung-Box Test     R    Q(15)  5.451672  0.9875622\n",
      " Ljung-Box Test     R    Q(20)  8.259701  0.9900054\n",
      " Ljung-Box Test     R^2  Q(10)  16.14081  0.095672 \n",
      " Ljung-Box Test     R^2  Q(15)  19.87118  0.1769304\n",
      " Ljung-Box Test     R^2  Q(20)  22.93173  0.2921592\n",
      " LM Arch Test       R    TR^2   11.83822  0.4587588\n",
      "\n",
      "Information Criterion Statistics:\n",
      "     AIC      BIC      SIC     HQIC \n",
      "4.948168 4.962767 4.948155 4.953482 \n",
      "\n"
     ]
    }
   ],
   "source": [
    "summary(m5)"
   ]
  },
  {
   "cell_type": "code",
   "execution_count": 39,
   "metadata": {},
   "outputs": [
    {
     "name": "stdout",
     "output_type": "stream",
     "text": [
      "\n",
      "Title:\n",
      " GARCH Modelling \n",
      "\n",
      "Call:\n",
      " garchFit(formula = ~garch(2, 2), data = rtn, cond.dist = \"std\", \n",
      "    trace = F) \n",
      "\n",
      "Mean and Variance Equation:\n",
      " data ~ garch(2, 2)\n",
      "<environment: 0x000000004c363b18>\n",
      " [data = rtn]\n",
      "\n",
      "Conditional Distribution:\n",
      " std \n",
      "\n",
      "Coefficient(s):\n",
      "        mu       omega      alpha1      alpha2       beta1       beta2  \n",
      "0.11722641  0.26488723  0.04881269  0.00000001  0.45923499  0.46969398  \n",
      "     shape  \n",
      "3.62701156  \n",
      "\n",
      "Std. Errors:\n",
      " based on Hessian \n",
      "\n",
      "Error Analysis:\n",
      "        Estimate  Std. Error  t value Pr(>|t|)    \n",
      "mu     1.172e-01   5.059e-02    2.317 0.020503 *  \n",
      "omega  2.649e-01   5.049e-02    5.246 1.55e-07 ***\n",
      "alpha1 4.881e-02   1.402e-02    3.482 0.000498 ***\n",
      "alpha2 1.000e-08          NA       NA       NA    \n",
      "beta1  4.592e-01          NA       NA       NA    \n",
      "beta2  4.697e-01          NA       NA       NA    \n",
      "shape  3.627e+00   2.797e-01   12.966  < 2e-16 ***\n",
      "---\n",
      "Signif. codes:  0 '***' 0.001 '**' 0.01 '*' 0.05 '.' 0.1 ' ' 1\n",
      "\n",
      "Log Likelihood:\n",
      " -5861.669    normalized:  -2.471193 \n",
      "\n",
      "Description:\n",
      " Sun Dec 15 20:55:20 2019 by user: Hyojun \n",
      "\n",
      "\n",
      "Standardised Residuals Tests:\n",
      "                                Statistic p-Value  \n",
      " Jarque-Bera Test   R    Chi^2  3565.168  0        \n",
      " Shapiro-Wilk Test  R    W      0.9358807 0        \n",
      " Ljung-Box Test     R    Q(10)  4.587133  0.9169996\n",
      " Ljung-Box Test     R    Q(15)  5.440041  0.9876995\n",
      " Ljung-Box Test     R    Q(20)  8.250516  0.9900764\n",
      " Ljung-Box Test     R^2  Q(10)  11.55453  0.3159754\n",
      " Ljung-Box Test     R^2  Q(15)  15.05168  0.4477007\n",
      " Ljung-Box Test     R^2  Q(20)  18.27103  0.5695594\n",
      " LM Arch Test       R    TR^2   8.791657  0.7206151\n",
      "\n",
      "Information Criterion Statistics:\n",
      "     AIC      BIC      SIC     HQIC \n",
      "4.948288 4.965320 4.948270 4.954488 \n",
      "\n"
     ]
    }
   ],
   "source": [
    "summary(m6)"
   ]
  },
  {
   "cell_type": "code",
   "execution_count": 40,
   "metadata": {},
   "outputs": [
    {
     "name": "stdout",
     "output_type": "stream",
     "text": [
      "\n",
      "Title:\n",
      " GARCH Modelling \n",
      "\n",
      "Call:\n",
      " garchFit(formula = ~garch(2, 0), data = rtn, cond.dist = \"sstd\", \n",
      "    trace = F) \n",
      "\n",
      "Mean and Variance Equation:\n",
      " data ~ garch(2, 0)\n",
      "<environment: 0x000000004c8049e0>\n",
      " [data = rtn]\n",
      "\n",
      "Conditional Distribution:\n",
      " sstd \n",
      "\n",
      "Coefficient(s):\n",
      "     mu    omega   alpha1   alpha2     skew    shape  \n",
      "0.14726  8.40979  0.13414  0.11775  1.00454  3.59242  \n",
      "\n",
      "Std. Errors:\n",
      " based on Hessian \n",
      "\n",
      "Error Analysis:\n",
      "        Estimate  Std. Error  t value Pr(>|t|)    \n",
      "mu       0.14726     0.06158    2.391 0.016791 *  \n",
      "omega    8.40979     0.72720   11.565  < 2e-16 ***\n",
      "alpha1   0.13414     0.03742    3.584 0.000338 ***\n",
      "alpha2   0.11775     0.03673    3.206 0.001345 ** \n",
      "skew     1.00454     0.02713   37.025  < 2e-16 ***\n",
      "shape    3.59242     0.28364   12.665  < 2e-16 ***\n",
      "---\n",
      "Signif. codes:  0 '***' 0.001 '**' 0.01 '*' 0.05 '.' 0.1 ' ' 1\n",
      "\n",
      "Log Likelihood:\n",
      " -5878.439    normalized:  -2.478263 \n",
      "\n",
      "Description:\n",
      " Sun Dec 15 20:55:21 2019 by user: Hyojun \n",
      "\n",
      "\n",
      "Standardised Residuals Tests:\n",
      "                                Statistic p-Value  \n",
      " Jarque-Bera Test   R    Chi^2  3265.614  0        \n",
      " Shapiro-Wilk Test  R    W      0.9373647 0        \n",
      " Ljung-Box Test     R    Q(10)  5.338078  0.8674808\n",
      " Ljung-Box Test     R    Q(15)  6.286587  0.9745212\n",
      " Ljung-Box Test     R    Q(20)  9.068072  0.9821053\n",
      " Ljung-Box Test     R^2  Q(10)  10.19474  0.4235775\n",
      " Ljung-Box Test     R^2  Q(15)  13.86646  0.5356801\n",
      " Ljung-Box Test     R^2  Q(20)  17.08804  0.6472498\n",
      " LM Arch Test       R    TR^2   12.1349   0.434907 \n",
      "\n",
      "Information Criterion Statistics:\n",
      "     AIC      BIC      SIC     HQIC \n",
      "4.961584 4.976183 4.961572 4.966899 \n",
      "\n"
     ]
    }
   ],
   "source": [
    "summary(m7)"
   ]
  },
  {
   "cell_type": "code",
   "execution_count": 41,
   "metadata": {},
   "outputs": [
    {
     "name": "stdout",
     "output_type": "stream",
     "text": [
      "\n",
      "Title:\n",
      " GARCH Modelling \n",
      "\n",
      "Call:\n",
      " garchFit(formula = ~garch(2, 1), data = rtn, cond.dist = \"sstd\", \n",
      "    trace = F) \n",
      "\n",
      "Mean and Variance Equation:\n",
      " data ~ garch(2, 1)\n",
      "<environment: 0x000000004d07bf68>\n",
      " [data = rtn]\n",
      "\n",
      "Conditional Distribution:\n",
      " sstd \n",
      "\n",
      "Coefficient(s):\n",
      "        mu       omega      alpha1      alpha2       beta1        skew  \n",
      "0.10186305  0.18845336  0.03424186  0.00000001  0.95000976  0.98802024  \n",
      "     shape  \n",
      "3.61563031  \n",
      "\n",
      "Std. Errors:\n",
      " based on Hessian \n",
      "\n",
      "Error Analysis:\n",
      "        Estimate  Std. Error  t value Pr(>|t|)    \n",
      "mu     1.019e-01   5.983e-02    1.703   0.0887 .  \n",
      "omega  1.885e-01   9.527e-02    1.978   0.0479 *  \n",
      "alpha1 3.424e-02   1.739e-02    1.969   0.0490 *  \n",
      "alpha2 1.000e-08   1.998e-02    0.000   1.0000    \n",
      "beta1  9.500e-01   1.718e-02   55.288   <2e-16 ***\n",
      "skew   9.880e-01   2.687e-02   36.768   <2e-16 ***\n",
      "shape  3.616e+00   2.890e-01   12.512   <2e-16 ***\n",
      "---\n",
      "Signif. codes:  0 '***' 0.001 '**' 0.01 '*' 0.05 '.' 0.1 ' ' 1\n",
      "\n",
      "Log Likelihood:\n",
      " -5862.429    normalized:  -2.471513 \n",
      "\n",
      "Description:\n",
      " Sun Dec 15 20:55:21 2019 by user: Hyojun \n",
      "\n",
      "\n",
      "Standardised Residuals Tests:\n",
      "                                Statistic p-Value   \n",
      " Jarque-Bera Test   R    Chi^2  3550.316  0         \n",
      " Shapiro-Wilk Test  R    W      0.9353587 0         \n",
      " Ljung-Box Test     R    Q(10)  4.564834  0.9182914 \n",
      " Ljung-Box Test     R    Q(15)  5.458261  0.987484  \n",
      " Ljung-Box Test     R    Q(20)  8.260659  0.989998  \n",
      " Ljung-Box Test     R^2  Q(10)  16.07139  0.09760686\n",
      " Ljung-Box Test     R^2  Q(15)  19.80061  0.1797157 \n",
      " Ljung-Box Test     R^2  Q(20)  22.8658   0.2954318 \n",
      " LM Arch Test       R    TR^2   11.80816  0.4612068 \n",
      "\n",
      "Information Criterion Statistics:\n",
      "     AIC      BIC      SIC     HQIC \n",
      "4.948928 4.965960 4.948911 4.955128 \n",
      "\n"
     ]
    }
   ],
   "source": [
    "summary(m8)"
   ]
  },
  {
   "cell_type": "code",
   "execution_count": 42,
   "metadata": {},
   "outputs": [
    {
     "name": "stdout",
     "output_type": "stream",
     "text": [
      "\n",
      "Title:\n",
      " GARCH Modelling \n",
      "\n",
      "Call:\n",
      " garchFit(formula = ~garch(2, 2), data = rtn, cond.dist = \"sstd\", \n",
      "    trace = F) \n",
      "\n",
      "Mean and Variance Equation:\n",
      " data ~ garch(2, 2)\n",
      "<environment: 0x000000004d39fcb0>\n",
      " [data = rtn]\n",
      "\n",
      "Conditional Distribution:\n",
      " sstd \n",
      "\n",
      "Coefficient(s):\n",
      "        mu       omega      alpha1      alpha2       beta1       beta2  \n",
      "0.10321796  0.26660702  0.04901466  0.00000001  0.45414841  0.47435477  \n",
      "      skew       shape  \n",
      "0.98799236  3.63347463  \n",
      "\n",
      "Std. Errors:\n",
      " based on Hessian \n",
      "\n",
      "Error Analysis:\n",
      "        Estimate  Std. Error  t value Pr(>|t|)    \n",
      "mu     1.032e-01   5.945e-02    1.736 0.082549 .  \n",
      "omega  2.666e-01   5.043e-02    5.287 1.25e-07 ***\n",
      "alpha1 4.901e-02   1.411e-02    3.475 0.000511 ***\n",
      "alpha2 1.000e-08          NA       NA       NA    \n",
      "beta1  4.541e-01          NA       NA       NA    \n",
      "beta2  4.744e-01          NA       NA       NA    \n",
      "skew   9.880e-01   2.682e-02   36.843  < 2e-16 ***\n",
      "shape  3.633e+00   2.809e-01   12.936  < 2e-16 ***\n",
      "---\n",
      "Signif. codes:  0 '***' 0.001 '**' 0.01 '*' 0.05 '.' 0.1 ' ' 1\n",
      "\n",
      "Log Likelihood:\n",
      " -5861.57    normalized:  -2.471151 \n",
      "\n",
      "Description:\n",
      " Sun Dec 15 20:55:22 2019 by user: Hyojun \n",
      "\n",
      "\n",
      "Standardised Residuals Tests:\n",
      "                                Statistic p-Value  \n",
      " Jarque-Bera Test   R    Chi^2  3568.805  0        \n",
      " Shapiro-Wilk Test  R    W      0.9358653 0        \n",
      " Ljung-Box Test     R    Q(10)  4.594848  0.9165501\n",
      " Ljung-Box Test     R    Q(15)  5.446758  0.9876204\n",
      " Ljung-Box Test     R    Q(20)  8.250983  0.9900728\n",
      " Ljung-Box Test     R^2  Q(10)  11.48244  0.3211861\n",
      " Ljung-Box Test     R^2  Q(15)  14.97689  0.4530832\n",
      " Ljung-Box Test     R^2  Q(20)  18.20341  0.5740105\n",
      " LM Arch Test       R    TR^2   8.756804  0.7235503\n",
      "\n",
      "Information Criterion Statistics:\n",
      "     AIC      BIC      SIC     HQIC \n",
      "4.949047 4.968513 4.949025 4.956133 \n",
      "\n"
     ]
    }
   ],
   "source": [
    "summary(m9)"
   ]
  },
  {
   "cell_type": "markdown",
   "metadata": {},
   "source": [
    "###### Model diagnostic"
   ]
  },
  {
   "cell_type": "code",
   "execution_count": 43,
   "metadata": {},
   "outputs": [
    {
     "data": {
      "image/png": "[encoded data removed]",
      "text/plain": [
       "Plot with title \"Series  resi^2\""
      ]
     },
     "metadata": {},
     "output_type": "display_data"
    }
   ],
   "source": [
    "par(mfcol=c(3,1))\n",
    "acf(residuals(m1))\n",
    "resi=residuals(m1,standardize=T)\n",
    "acf(resi,lag=20)\n",
    "pacf(resi^2, lag=20)"
   ]
  },
  {
   "cell_type": "code",
   "execution_count": 44,
   "metadata": {},
   "outputs": [
    {
     "data": {
      "image/png": "[encoded data removed]",
      "text/plain": [
       "Plot with title \"Series  resi^2\""
      ]
     },
     "metadata": {},
     "output_type": "display_data"
    }
   ],
   "source": [
    "par(mfcol=c(3,1))\n",
    "acf(residuals(m2))\n",
    "resi=residuals(m2,standardize=T)\n",
    "acf(resi,lag=20)\n",
    "pacf(resi^2, lag=20)"
   ]
  },
  {
   "cell_type": "code",
   "execution_count": 45,
   "metadata": {},
   "outputs": [
    {
     "data": {
      "image/png": "[encoded data removed]",
      "text/plain": [
       "Plot with title \"Series  resi^2\""
      ]
     },
     "metadata": {},
     "output_type": "display_data"
    }
   ],
   "source": [
    "par(mfcol=c(3,1))\n",
    "acf(residuals(m3))\n",
    "resi=residuals(m3,standardize=T)\n",
    "acf(resi,lag=20)\n",
    "pacf(resi^2, lag=20)"
   ]
  },
  {
   "cell_type": "code",
   "execution_count": 46,
   "metadata": {},
   "outputs": [
    {
     "data": {
      "image/png": "[encoded data removed]",
      "text/plain": [
       "Plot with title \"Series  resi^2\""
      ]
     },
     "metadata": {},
     "output_type": "display_data"
    }
   ],
   "source": [
    "par(mfcol=c(3,1))\n",
    "acf(residuals(m4))\n",
    "resi=residuals(m4,standardize=T)\n",
    "acf(resi,lag=20)\n",
    "pacf(resi^2, lag=20)"
   ]
  },
  {
   "cell_type": "code",
   "execution_count": 47,
   "metadata": {},
   "outputs": [
    {
     "data": {
      "image/png": "[encoded data removed]",
      "text/plain": [
       "Plot with title \"Series  resi^2\""
      ]
     },
     "metadata": {},
     "output_type": "display_data"
    }
   ],
   "source": [
    "par(mfcol=c(3,1))\n",
    "acf(residuals(m5))\n",
    "resi=residuals(m5,standardize=T)\n",
    "acf(resi,lag=20)\n",
    "pacf(resi^2, lag=20)"
   ]
  },
  {
   "cell_type": "code",
   "execution_count": 48,
   "metadata": {},
   "outputs": [
    {
     "data": {
      "image/png": "[encoded data removed]",
      "text/plain": [
       "Plot with title \"Series  resi^2\""
      ]
     },
     "metadata": {},
     "output_type": "display_data"
    }
   ],
   "source": [
    "par(mfcol=c(3,1))\n",
    "acf(residuals(m6))\n",
    "resi=residuals(m6,standardize=T)\n",
    "acf(resi,lag=20)\n",
    "pacf(resi^2, lag=20)"
   ]
  },
  {
   "cell_type": "code",
   "execution_count": 49,
   "metadata": {},
   "outputs": [
    {
     "data": {
      "image/png": "[encoded data removed]",
      "text/plain": [
       "Plot with title \"Series  resi^2\""
      ]
     },
     "metadata": {},
     "output_type": "display_data"
    }
   ],
   "source": [
    "par(mfcol=c(3,1))\n",
    "acf(residuals(m7))\n",
    "resi=residuals(m7,standardize=T)\n",
    "acf(resi,lag=20)\n",
    "pacf(resi^2, lag=20)"
   ]
  },
  {
   "cell_type": "code",
   "execution_count": 50,
   "metadata": {},
   "outputs": [
    {
     "data": {
      "image/png": "[encoded data removed]",
      "text/plain": [
       "Plot with title \"Series  resi^2\""
      ]
     },
     "metadata": {},
     "output_type": "display_data"
    }
   ],
   "source": [
    "par(mfcol=c(3,1))\n",
    "acf(residuals(m8))\n",
    "resi=residuals(m8,standardize=T)\n",
    "acf(resi,lag=20)\n",
    "pacf(resi^2, lag=20)"
   ]
  },
  {
   "cell_type": "code",
   "execution_count": 51,
   "metadata": {},
   "outputs": [
    {
     "data": {
      "image/png": "[encoded data removed]",
      "text/plain": [
       "Plot with title \"Series  resi^2\""
      ]
     },
     "metadata": {},
     "output_type": "display_data"
    }
   ],
   "source": [
    "par(mfcol=c(3,1))\n",
    "acf(residuals(m9))\n",
    "resi=residuals(m9,standardize=T)\n",
    "acf(resi,lag=20)\n",
    "pacf(resi^2, lag=20)"
   ]
  },
  {
   "cell_type": "code",
   "execution_count": 52,
   "metadata": {},
   "outputs": [
    {
     "data": {
      "image/png": "[encoded data removed]",
      "text/plain": [
       "Plot with title \"qnorm - QQ Plot\""
      ]
     },
     "metadata": {},
     "output_type": "display_data"
    }
   ],
   "source": [
    "par(mfcol=c(2,1))\n",
    "plot(m1, which =13)\n",
    "plot(m2, which =13)"
   ]
  },
  {
   "cell_type": "code",
   "execution_count": 53,
   "metadata": {},
   "outputs": [
    {
     "data": {
      "image/png": "[encoded data removed]",
      "text/plain": [
       "Plot with title \"qsstd - QQ Plot\""
      ]
     },
     "metadata": {},
     "output_type": "display_data"
    }
   ],
   "source": [
    "par(mfcol=c(2,1))\n",
    "plot(m4, which =13)\n",
    "plot(m7, which =13)"
   ]
  },
  {
   "cell_type": "code",
   "execution_count": 54,
   "metadata": {},
   "outputs": [
    {
     "data": {
      "image/png": "[encoded data removed]",
      "text/plain": [
       "Plot with title \"qsstd - QQ Plot\""
      ]
     },
     "metadata": {},
     "output_type": "display_data"
    }
   ],
   "source": [
    "par(mfcol=c(3,1))\n",
    "plot(m7, which =13)\n",
    "plot(m8, which =13)\n",
    "plot(m9, which =13)"
   ]
  },
  {
   "cell_type": "code",
   "execution_count": 55,
   "metadata": {},
   "outputs": [],
   "source": [
    "plot(m4, which =14)"
   ]
  },
  {
   "cell_type": "code",
   "execution_count": 56,
   "metadata": {},
   "outputs": [
    {
     "data": {
      "text/html": [
       "<table>\n",
       "<thead><tr><th scope=col>meanForecast</th><th scope=col>meanError</th><th scope=col>standardDeviation</th><th scope=col>lowerInterval</th><th scope=col>upperInterval</th></tr></thead>\n",
       "<tbody>\n",
       "\t<tr><td>0.1416969</td><td>2.913278 </td><td>2.913278 </td><td>-5.494060</td><td>5.777454 </td></tr>\n",
       "\t<tr><td>0.1416969</td><td>3.094982 </td><td>3.094982 </td><td>-5.845567</td><td>6.128961 </td></tr>\n",
       "\t<tr><td>0.1416969</td><td>3.268957 </td><td>3.268957 </td><td>-6.182123</td><td>6.465517 </td></tr>\n",
       "\t<tr><td>0.1416969</td><td>3.310956 </td><td>3.310956 </td><td>-6.263369</td><td>6.546763 </td></tr>\n",
       "\t<tr><td>0.1416969</td><td>3.336078 </td><td>3.336078 </td><td>-6.311968</td><td>6.595362 </td></tr>\n",
       "\t<tr><td>0.1416969</td><td>3.344280 </td><td>3.344280 </td><td>-6.327835</td><td>6.611229 </td></tr>\n",
       "</tbody>\n",
       "</table>\n"
      ],
      "text/latex": [
       "\\begin{tabular}{r|lllll}\n",
       " meanForecast & meanError & standardDeviation & lowerInterval & upperInterval\\\\\n",
       "\\hline\n",
       "\t 0.1416969 & 2.913278  & 2.913278  & -5.494060 & 5.777454 \\\\\n",
       "\t 0.1416969 & 3.094982  & 3.094982  & -5.845567 & 6.128961 \\\\\n",
       "\t 0.1416969 & 3.268957  & 3.268957  & -6.182123 & 6.465517 \\\\\n",
       "\t 0.1416969 & 3.310956  & 3.310956  & -6.263369 & 6.546763 \\\\\n",
       "\t 0.1416969 & 3.336078  & 3.336078  & -6.311968 & 6.595362 \\\\\n",
       "\t 0.1416969 & 3.344280  & 3.344280  & -6.327835 & 6.611229 \\\\\n",
       "\\end{tabular}\n"
      ],
      "text/markdown": [
       "\n",
       "| meanForecast | meanError | standardDeviation | lowerInterval | upperInterval |\n",
       "|---|---|---|---|---|\n",
       "| 0.1416969 | 2.913278  | 2.913278  | -5.494060 | 5.777454  |\n",
       "| 0.1416969 | 3.094982  | 3.094982  | -5.845567 | 6.128961  |\n",
       "| 0.1416969 | 3.268957  | 3.268957  | -6.182123 | 6.465517  |\n",
       "| 0.1416969 | 3.310956  | 3.310956  | -6.263369 | 6.546763  |\n",
       "| 0.1416969 | 3.336078  | 3.336078  | -6.311968 | 6.595362  |\n",
       "| 0.1416969 | 3.344280  | 3.344280  | -6.327835 | 6.611229  |\n",
       "\n"
      ],
      "text/plain": [
       "  meanForecast meanError standardDeviation lowerInterval upperInterval\n",
       "1 0.1416969    2.913278  2.913278          -5.494060     5.777454     \n",
       "2 0.1416969    3.094982  3.094982          -5.845567     6.128961     \n",
       "3 0.1416969    3.268957  3.268957          -6.182123     6.465517     \n",
       "4 0.1416969    3.310956  3.310956          -6.263369     6.546763     \n",
       "5 0.1416969    3.336078  3.336078          -6.311968     6.595362     \n",
       "6 0.1416969    3.344280  3.344280          -6.327835     6.611229     "
      ]
     },
     "metadata": {},
     "output_type": "display_data"
    },
    {
     "data": {
      "image/png": "[encoded data removed]",
      "text/plain": [
       "Plot with title \"Prediction with confidence intervals\""
      ]
     },
     "metadata": {},
     "output_type": "display_data"
    }
   ],
   "source": [
    "predict(m4,n.ahead=6,plot=TRUE)"
   ]
  },
  {
   "cell_type": "code",
   "execution_count": 57,
   "metadata": {},
   "outputs": [
    {
     "data": {
      "text/plain": [
       "\n",
       "Title:\n",
       " GARCH Modelling \n",
       "\n",
       "Call:\n",
       " garchFit(formula = ~garch(2, 0), data = rtn, cond.dist = \"std\", \n",
       "    trace = F) \n",
       "\n",
       "Mean and Variance Equation:\n",
       " data ~ garch(2, 0)\n",
       "<environment: 0x000000004cde6ea0>\n",
       " [data = rtn]\n",
       "\n",
       "Conditional Distribution:\n",
       " std \n",
       "\n",
       "Coefficient(s):\n",
       "     mu    omega   alpha1   alpha2    shape  \n",
       "0.14170  8.40772  0.13381  0.11742  3.59518  \n",
       "\n",
       "Std. Errors:\n",
       " based on Hessian \n",
       "\n",
       "Error Analysis:\n",
       "        Estimate  Std. Error  t value Pr(>|t|)    \n",
       "mu       0.14170     0.05185    2.733 0.006281 ** \n",
       "omega    8.40772     0.72599   11.581  < 2e-16 ***\n",
       "alpha1   0.13381     0.03731    3.587 0.000335 ***\n",
       "alpha2   0.11742     0.03659    3.209 0.001331 ** \n",
       "shape    3.59518     0.28338   12.687  < 2e-16 ***\n",
       "---\n",
       "Signif. codes:  0 '***' 0.001 '**' 0.01 '*' 0.05 '.' 0.1 ' ' 1\n",
       "\n",
       "Log Likelihood:\n",
       " -5878.453    normalized:  -2.478269 \n",
       "\n",
       "Description:\n",
       " Sun Dec 15 20:55:19 2019 by user: Hyojun \n"
      ]
     },
     "metadata": {},
     "output_type": "display_data"
    }
   ],
   "source": [
    "m4"
   ]
  },
  {
   "cell_type": "code",
   "execution_count": 58,
   "metadata": {},
   "outputs": [
    {
     "data": {
      "text/html": [
       "<ol class=list-inline>\n",
       "\t<li>0.393873043347606</li>\n",
       "\t<li>41.5805550059715</li>\n",
       "\t<li>0.766160619969866</li>\n",
       "\t<li>5.48252517972678</li>\n",
       "\t<li>0.368776989748124</li>\n",
       "\t<li>0.269379396283799</li>\n",
       "</ol>\n"
      ],
      "text/latex": [
       "\\begin{enumerate*}\n",
       "\\item 0.393873043347606\n",
       "\\item 41.5805550059715\n",
       "\\item 0.766160619969866\n",
       "\\item 5.48252517972678\n",
       "\\item 0.368776989748124\n",
       "\\item 0.269379396283799\n",
       "\\end{enumerate*}\n"
      ],
      "text/markdown": [
       "1. 0.393873043347606\n",
       "2. 41.5805550059715\n",
       "3. 0.766160619969866\n",
       "4. 5.48252517972678\n",
       "5. 0.368776989748124\n",
       "6. 0.269379396283799\n",
       "\n",
       "\n"
      ],
      "text/plain": [
       "[1]  0.3938730 41.5805550  0.7661606  5.4825252  0.3687770  0.2693794"
      ]
     },
     "metadata": {},
     "output_type": "display_data"
    }
   ],
   "source": [
    "tail(y2)"
   ]
  },
  {
   "cell_type": "code",
   "execution_count": 59,
   "metadata": {},
   "outputs": [
    {
     "data": {
      "image/png": "[encoded data removed]",
      "text/plain": [
       "plot without title"
      ]
     },
     "metadata": {},
     "output_type": "display_data"
    }
   ],
   "source": [
    "v1=volatility(m4) \n",
    "resi=residuals(m4,standardize=T) # Standardized residuals\n",
    "\n",
    "vol=ts(v1,frequency=250)\n",
    "res=ts(resi,frequency=250)\n",
    "\n",
    "par(mfcol=c(2,1)) # Show volatility and residuals\n",
    "plot(vol,xlab='year',ylab='volatility',type='l')\n",
    "plot(res,xlab='year',ylab='st. resi',type='l')\n",
    "## volatility: oil crisis 1973 - 1974, internet bubble around 2000"
   ]
  },
  {
   "cell_type": "code",
   "execution_count": 81,
   "metadata": {},
   "outputs": [
    {
     "ename": "ERROR",
     "evalue": "Error in xy.coords(x, y, xlabel, ylabel, log): 'x' and 'y' lengths differ\n",
     "output_type": "error",
     "traceback": [
      "Error in xy.coords(x, y, xlabel, ylabel, log): 'x' and 'y' lengths differ\nTraceback:\n",
      "1. plot(tdx, rtn, xlab = \"year\", ylab = \"series\", type = \"l\")",
      "2. plot(tdx, rtn, xlab = \"year\", ylab = \"series\", type = \"l\")",
      "3. plot.default(tdx, rtn, xlab = \"year\", ylab = \"series\", type = \"l\")",
      "4. xy.coords(x, y, xlabel, ylabel, log)",
      "5. stop(\"'x' and 'y' lengths differ\")"
     ]
    }
   ],
   "source": [
    "# Obtain plot of predictive intervals\n",
    "## 95% intervals: mean +/- 2*std\n",
    "\n",
    "\n",
    "\n",
    "par(mfcol=c(1,1))\n",
    "upp=0.0112+2*v1\n",
    "low=0.0112-2*v1\n",
    "\n",
    "tdx=c(1:2377) / 365+2010\n",
    " \n",
    "plot(tdx,rtn, xlab='year',ylab='series', type='l')\n",
    "\n",
    "lines(tdx,upp,lty=2,col='red')\n",
    "lines(tdx,low,lty=2,col='red')\n",
    "\n",
    "abline(h=c(0.0112)) ## line for mean level"
   ]
  },
  {
   "cell_type": "code",
   "execution_count": 61,
   "metadata": {},
   "outputs": [
    {
     "data": {
      "text/html": [
       "2372"
      ],
      "text/latex": [
       "2372"
      ],
      "text/markdown": [
       "2372"
      ],
      "text/plain": [
       "[1] 2372"
      ]
     },
     "metadata": {},
     "output_type": "display_data"
    }
   ],
   "source": [
    "length(rtn)\n"
   ]
  },
  {
   "cell_type": "code",
   "execution_count": 82,
   "metadata": {},
   "outputs": [
    {
     "ename": "ERROR",
     "evalue": "Error in prediction.plot(results, m4, dataset = rtn, absolute = TRUE, : 함수 \"prediction.plot\"를 찾을 수 없습니다\n",
     "output_type": "error",
     "traceback": [
      "Error in prediction.plot(results, m4, dataset = rtn, absolute = TRUE, : 함수 \"prediction.plot\"를 찾을 수 없습니다\nTraceback:\n"
     ]
    }
   ],
   "source": [
    "prediction.plot(results, m4, \n",
    "dataset = rtn, \n",
    "absolute = TRUE, \n",
    "spacing = 2, \n",
    "axis.labels = NULL, \n",
    "ylim, model.type = c(\"easy\", \"eqn\", \"eqn2\"), \n",
    "args.plot = list(), args.rect = list(), args.box = list(), args.points = list(), \n",
    "args.labels = list(), numbers = c(\"individual\", \"continuous\"), \n",
    "pos.numbers = c(\"plot\", \"axis\"), args.numbers = list(), args.abline = list(), abline)"
   ]
  },
  {
   "cell_type": "code",
   "execution_count": 63,
   "metadata": {},
   "outputs": [
    {
     "ename": "ERROR",
     "evalue": "Error in m4$residuals: $ operator not defined for this S4 class\n",
     "output_type": "error",
     "traceback": [
      "Error in m4$residuals: $ operator not defined for this S4 class\nTraceback:\n",
      "1. Box.test(m4$residuals, type = \"Ljung\", lag = 10)",
      "2. NCOL(x)"
     ]
    }
   ],
   "source": [
    "Box.test(m4$residuals,type='Ljung',lag=10)"
   ]
  },
  {
   "cell_type": "code",
   "execution_count": 64,
   "metadata": {},
   "outputs": [
    {
     "ename": "ERROR",
     "evalue": "Error: $ operator not defined for this S4 class\n",
     "output_type": "error",
     "traceback": [
      "Error: $ operator not defined for this S4 class\nTraceback:\n",
      "1. checkresiduals(m4)",
      "2. residuals(object)",
      "3. residuals.default(object)",
      "4. naresid(object$na.action, object$residuals)"
     ]
    }
   ],
   "source": [
    "checkresiduals(m4)"
   ]
  },
  {
   "cell_type": "code",
   "execution_count": 65,
   "metadata": {},
   "outputs": [],
   "source": [
    "data_compared = getSymbols(Symbols=\"TSLA\", src = \"yahoo\", from= \"2019-11-29\", to = \"2019-12-07\", auto.assign = FALSE)"
   ]
  },
  {
   "cell_type": "code",
   "execution_count": 66,
   "metadata": {},
   "outputs": [
    {
     "data": {
      "text/plain": [
       "           TSLA.Open TSLA.High TSLA.Low TSLA.Close TSLA.Volume TSLA.Adjusted\n",
       "2019-11-29    331.11    331.26   327.50     329.94     2465600        329.94\n",
       "2019-12-02    329.40    336.38   328.69     334.87     6074500        334.87\n",
       "2019-12-03    332.62    337.91   332.19     336.20     6573700        336.20\n",
       "2019-12-04    337.75    337.86   332.85     333.03     5533000        333.03\n",
       "2019-12-05    332.83    334.42   327.25     330.37     3724600        330.37\n",
       "2019-12-06    335.00    338.86   334.77     335.89     7612400        335.89"
      ]
     },
     "metadata": {},
     "output_type": "display_data"
    }
   ],
   "source": [
    "head(data_compared)"
   ]
  },
  {
   "cell_type": "code",
   "execution_count": 67,
   "metadata": {},
   "outputs": [],
   "source": [
    "raw_set = log(data_compared$TSLA.Adjusted)"
   ]
  },
  {
   "cell_type": "code",
   "execution_count": 78,
   "metadata": {},
   "outputs": [],
   "source": [
    "x = diff(raw_set)-mean(raw_set)"
   ]
  },
  {
   "cell_type": "code",
   "execution_count": 80,
   "metadata": {},
   "outputs": [
    {
     "data": {
      "text/plain": [
       "           TSLA.Adjusted\n",
       "2019-11-29            NA\n",
       "2019-12-02      33.57546\n",
       "2019-12-03      33.70152\n",
       "2019-12-04      33.85772\n",
       "2019-12-05      33.84080\n",
       "2019-12-06      33.55531"
      ]
     },
     "metadata": {},
     "output_type": "display_data"
    }
   ],
   "source": [
    "x^2"
   ]
  },
  {
   "cell_type": "code",
   "execution_count": null,
   "metadata": {},
   "outputs": [],
   "source": [
    "mean(raw_set)"
   ]
  },
  {
   "cell_type": "code",
   "execution_count": null,
   "metadata": {},
   "outputs": [],
   "source": []
  }
 ],
 "metadata": {
  "kernelspec": {
   "display_name": "R",
   "language": "R",
   "name": "ir"
  },
  "language_info": {
   "codemirror_mode": "r",
   "file_extension": ".r",
   "mimetype": "text/x-r-source",
   "name": "R",
   "pygments_lexer": "r",
   "version": "3.6.1"
  }
 },
 "nbformat": 4,
 "nbformat_minor": 2
}
